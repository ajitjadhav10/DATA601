{
  "nbformat": 4,
  "nbformat_minor": 5,
  "metadata": {
    "kernelspec": {
      "display_name": "Python 3",
      "language": "python",
      "name": "python3"
    },
    "language_info": {
      "codemirror_mode": {
        "name": "ipython",
        "version": 3
      },
      "file_extension": ".py",
      "mimetype": "text/x-python",
      "name": "python",
      "nbconvert_exporter": "python",
      "pygments_lexer": "ipython3",
      "version": "3.8.8"
    },
    "colab": {
      "name": "Original week 2 assignment.ipynb",
      "provenance": [],
      "include_colab_link": true
    }
  },
  "cells": [
    {
      "cell_type": "markdown",
      "metadata": {
        "id": "view-in-github",
        "colab_type": "text"
      },
      "source": [
        "<a href=\"https://colab.research.google.com/github/ajitjadhav10/DATA601/blob/main/Assignment_11/Original_week_2_assignment.ipynb\" target=\"_parent\"><img src=\"https://colab.research.google.com/assets/colab-badge.svg\" alt=\"Open In Colab\"/></a>"
      ]
    },
    {
      "cell_type": "markdown",
      "metadata": {
        "id": "ca28745b"
      },
      "source": [
        "##Week 2 Assignment: Count of characters and words\n",
        "\n",
        "- - Question: Write a function that returns the count of characters and words in a string. Do not use the print() function to display the results. The string should provided to the function as an argument.\n",
        "\n",
        "This is the original netebook along with the time required for execution. Here I had missed adding the code for count of words. In the new notebook, I've completed the code.\n"
      ],
      "id": "ca28745b"
    },
    {
      "cell_type": "code",
      "metadata": {
        "id": "84dd1d50"
      },
      "source": [
        "import time\n",
        "start = time.time()"
      ],
      "id": "84dd1d50",
      "execution_count": null,
      "outputs": []
    },
    {
      "cell_type": "code",
      "metadata": {
        "id": "a520628c-c5cd-482c-9c9b-92318b848b0f",
        "outputId": "8161ff3a-cc85-452d-c52e-b9eff0c41714"
      },
      "source": [
        "def count_of_letters(my_string):\n",
        "    result = 0\n",
        "    for letters in my_string:\n",
        "        result += 1\n",
        "    return result\n",
        "count_of_letters(\"Ajit Rajesh Jadhav\")"
      ],
      "id": "a520628c-c5cd-482c-9c9b-92318b848b0f",
      "execution_count": null,
      "outputs": [
        {
          "data": {
            "text/plain": [
              "18"
            ]
          },
          "execution_count": 11,
          "metadata": {},
          "output_type": "execute_result"
        }
      ]
    },
    {
      "cell_type": "code",
      "metadata": {
        "id": "96a0aaec-b013-4f9e-ab73-2ee7a3282022",
        "outputId": "a2237ecc-b81e-45e6-ebb0-6a961c3538ee"
      },
      "source": [
        "end = time.time()\n",
        "print(f\"Runtime of the program is {end - start}\")"
      ],
      "id": "96a0aaec-b013-4f9e-ab73-2ee7a3282022",
      "execution_count": null,
      "outputs": [
        {
          "name": "stdout",
          "output_type": "stream",
          "text": [
            "Runtime of the program is 0.9821481704711914\n"
          ]
        }
      ]
    }
  ]
}