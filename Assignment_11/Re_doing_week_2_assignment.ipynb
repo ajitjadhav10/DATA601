{
  "nbformat": 4,
  "nbformat_minor": 5,
  "metadata": {
    "kernelspec": {
      "display_name": "Python 3",
      "language": "python",
      "name": "python3"
    },
    "language_info": {
      "codemirror_mode": {
        "name": "ipython",
        "version": 3
      },
      "file_extension": ".py",
      "mimetype": "text/x-python",
      "name": "python",
      "nbconvert_exporter": "python",
      "pygments_lexer": "ipython3",
      "version": "3.8.8"
    },
    "colab": {
      "name": "Re-doing week 2 assignment.ipynb",
      "provenance": [],
      "include_colab_link": true
    }
  },
  "cells": [
    {
      "cell_type": "markdown",
      "metadata": {
        "id": "view-in-github",
        "colab_type": "text"
      },
      "source": [
        "<a href=\"https://colab.research.google.com/github/ajitjadhav10/DATA601/blob/main/Assignment_11/Re_doing_week_2_assignment.ipynb\" target=\"_parent\"><img src=\"https://colab.research.google.com/assets/colab-badge.svg\" alt=\"Open In Colab\"/></a>"
      ]
    },
    {
      "cell_type": "markdown",
      "metadata": {
        "id": "3c520e0d"
      },
      "source": [
        "### Week 2 notebook: Word count- Redone\n",
        "\n",
        "- Question: Write a function that returns the count of characters and words in a string. Do not use the print() function to display the results. The string should provided to the function as an argument."
      ],
      "id": "3c520e0d"
    },
    {
      "cell_type": "markdown",
      "metadata": {
        "id": "ed45c4ed"
      },
      "source": [
        "- In the earlier notebook, the code was not complete. Here, I've completed the code and checked what is the run time of the code."
      ],
      "id": "ed45c4ed"
    },
    {
      "cell_type": "code",
      "metadata": {
        "id": "7a8825c8",
        "outputId": "1401d120-2e96-41da-8ee1-9a0424407a6e",
        "colab": {
          "base_uri": "https://localhost:8080/"
        }
      },
      "source": [
        "import time\n",
        "start = time.time()\n",
        "\n",
        "def count_char(my_arg):\n",
        "    word_cnt = 0\n",
        "    char_cnt = 0\n",
        "    \n",
        "    split_str = my_arg.split() #spliting the string\n",
        "    \n",
        "    word_cnt = len(split_str) #counting words\n",
        "    for word in split_str:\n",
        "        char_cnt += len(word)\n",
        "    return \"char count\", char_cnt , \"word count\", word_cnt\n",
        "\n",
        "string_ip = input(\"Enter a string \") # taking input string\n",
        " \n",
        "count_char(string_ip) #calling function and passing string as argument argument\n"
      ],
      "id": "7a8825c8",
      "execution_count": 1,
      "outputs": [
        {
          "name": "stdout",
          "output_type": "stream",
          "text": [
            "Enter a string ajit jadhav\n"
          ]
        },
        {
          "output_type": "execute_result",
          "data": {
            "text/plain": [
              "('char count', 10, 'word count', 2)"
            ]
          },
          "metadata": {},
          "execution_count": 1
        }
      ]
    },
    {
      "cell_type": "code",
      "metadata": {
        "id": "16df7d0e",
        "outputId": "303c8bb2-e630-4261-859e-06f895f839a3",
        "colab": {
          "base_uri": "https://localhost:8080/"
        }
      },
      "source": [
        "end = time.time()\n",
        "print(f\"Runtime of the program is {end - start}\")"
      ],
      "id": "16df7d0e",
      "execution_count": 2,
      "outputs": [
        {
          "output_type": "stream",
          "name": "stdout",
          "text": [
            "Runtime of the program is 6.353534936904907\n"
          ]
        }
      ]
    }
  ]
}